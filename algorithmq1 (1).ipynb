{
 "cells": [
  {
   "cell_type": "code",
   "execution_count": 45,
   "metadata": {},
   "outputs": [],
   "source": [
    "def job_deadline_passed(job, deadline):\n",
    "    return job[1] < deadline\n",
    "\n",
    "def sort_jobs_by_profit(jobs):\n",
    "    return sorted(jobs,key=lambda job: job[2], reverse=True)\n",
    "\n",
    "def schedule(jobs):\n",
    "    # sort jobs by profit\n",
    "    jobs = sort_jobs_by_profit(jobs)\n",
    "    # initial values\n",
    "    n_jobs = 0\n",
    "    max_profit = 0\n",
    "    deadline = 1\n",
    "    jobs_done = []\n",
    "    "
   ]
  },
  {
   "cell_type": "code",
   "execution_count": null,
   "metadata": {},
   "outputs": [],
   "source": [
    "# Job: ['ID', 'Deadline', 'Profit']\n",
    "jobs = [['1',4,20],\n",
    "        ['2',1,30],\n",
    "        ['3',1,40],\n",
    "        ['4',1,10]]\n",
    "schedule(jobs)"
   ]
  }
 ],
 "metadata": {
  "kernelspec": {
   "display_name": "Python 3",
   "language": "python",
   "name": "python3"
  },
  "language_info": {
   "codemirror_mode": {
    "name": "ipython",
    "version": 3
   },
   "file_extension": ".py",
   "mimetype": "text/x-python",
   "name": "python",
   "nbconvert_exporter": "python",
   "pygments_lexer": "ipython3",
   "version": "3.8.8"
  },
  "orig_nbformat": 4
 },
 "nbformat": 4,
 "nbformat_minor": 2
}
