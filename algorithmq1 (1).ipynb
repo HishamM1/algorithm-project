{
 "cells": [
  {
   "cell_type": "code",
   "execution_count": 2,
   "metadata": {},
   "outputs": [],
   "source": [
    "def job_deadline_passed(job, deadline):\n",
    "    return job[1] < deadline\n",
    "\n",
    "def sort_jobs_by_profit(jobs):\n",
    "    return sorted(jobs,key=lambda job: job[2], reverse=True)\n",
    "\n",
    "def schedule(jobs):\n",
    "    # sort jobs by profit\n",
    "    jobs = sort_jobs_by_profit(jobs)\n",
    "    # initial values\n",
    "    n_jobs = 0\n",
    "    max_profit = 0\n",
    "    deadline = 1\n",
    "    jobs_done = []\n",
    "    for job in jobs:\n",
    "        # check if job deadline passed\n",
    "        if job_deadline_passed(job, deadline):\n",
    "            continue\n",
    "        # if not, add job to list of jobs done\n",
    "        max_profit += job[2]\n",
    "        # increment deadline\n",
    "        deadline += 1\n",
    "        jobs_done.append(job)\n",
    "\n",
    "    n_jobs = len(jobs_done)\n",
    "    print('Jobs done: ', jobs_done)\n",
    "    print('Number of jobs: ', n_jobs)\n",
    "    print('Max profit: ', max_profit)"
   ]
  },
  {
   "cell_type": "code",
   "execution_count": 3,
   "metadata": {},
   "outputs": [
    {
     "name": "stdout",
     "output_type": "stream",
     "text": [
      "Jobs done:  [['3', 1, 40], ['1', 4, 20]]\n",
      "Number of jobs:  2\n",
      "Max profit:  60\n"
     ]
    }
   ],
   "source": [
    "# Job: ['ID', 'Deadline', 'Profit']\n",
    "jobs = [['1',4,20],\n",
    "        ['2',1,30],\n",
    "        ['3',1,40],\n",
    "        ['4',1,10]]\n",
    "schedule(jobs)"
   ]
  },
  {
   "cell_type": "code",
   "execution_count": 4,
   "metadata": {},
   "outputs": [
    {
     "name": "stdout",
     "output_type": "stream",
     "text": [
      "Jobs done:  [['a', 2, 100], ['c', 2, 27], ['e', 5, 15]]\n",
      "Number of jobs:  3\n",
      "Max profit:  142\n"
     ]
    }
   ],
   "source": [
    "# Job: ['ID', 'Deadline', 'Profit']\n",
    "jobs2 = [['a', 2, 100],\n",
    "       ['b', 1, 19],\n",
    "       ['c', 2, 27],\n",
    "       ['d', 1, 25],\n",
    "       ['e', 5, 15]]\n",
    "schedule(jobs2)"
   ]
  }
 ],
 "metadata": {
  "kernelspec": {
   "display_name": "Python 3",
   "language": "python",
   "name": "python3"
  },
  "language_info": {
   "codemirror_mode": {
    "name": "ipython",
    "version": 3
   },
   "file_extension": ".py",
   "mimetype": "text/x-python",
   "name": "python",
   "nbconvert_exporter": "python",
   "pygments_lexer": "ipython3",
   "version": "3.10.0"
  },
  "orig_nbformat": 4
 },
 "nbformat": 4,
 "nbformat_minor": 2
}
